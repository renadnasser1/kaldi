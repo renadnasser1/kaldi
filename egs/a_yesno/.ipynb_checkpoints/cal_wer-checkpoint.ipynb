{
 "cells": [
  {
   "cell_type": "code",
   "execution_count": 4,
   "metadata": {},
   "outputs": [],
   "source": [
    "import os\n",
    "import os.path\n",
    "import sys\n",
    "from wer import wer"
   ]
  },
  {
   "cell_type": "code",
   "execution_count": 34,
   "metadata": {},
   "outputs": [],
   "source": [
    "def text(basename):\n",
    "    transcript = basename.replace('1', 'YES').replace('0', 'NO').replace('_', \" \")\n",
    "    return transcript"
   ]
  },
  {
   "cell_type": "code",
   "execution_count": 19,
   "metadata": {},
   "outputs": [],
   "source": [
    "with open('out.txt', 'r') as output_text:\n",
    "    output = output_text.readlines()"
   ]
  },
  {
   "cell_type": "code",
   "execution_count": 48,
   "metadata": {},
   "outputs": [
    {
     "data": {
      "text/plain": [
       "29"
      ]
     },
     "execution_count": 48,
     "metadata": {},
     "output_type": "execute_result"
    }
   ],
   "source": [
    "len(output)"
   ]
  },
  {
   "cell_type": "code",
   "execution_count": 46,
   "metadata": {},
   "outputs": [
    {
     "name": "stdout",
     "output_type": "stream",
     "text": [
      "wer : 0.43103448275862066 \n"
     ]
    }
   ],
   "source": [
    "all_wer = 0 \n",
    "for inx in range(len(output)):\n",
    "    output[inx] = output[inx].replace('\\n','')\n",
    "    id_out,trans_out = output[inx].split(' ',1)\n",
    "    ground_truth = text(id_out)\n",
    "    all_wer = wer(ground_truth.split(' '),trans_out.split(' '))\n",
    "\n",
    "print('wer : {} '.format(all_wer/len(output)))"
   ]
  },
  {
   "cell_type": "code",
   "execution_count": null,
   "metadata": {},
   "outputs": [],
   "source": []
  }
 ],
 "metadata": {
  "kernelspec": {
   "display_name": "Python 3",
   "language": "python",
   "name": "python3"
  },
  "language_info": {
   "codemirror_mode": {
    "name": "ipython",
    "version": 3
   },
   "file_extension": ".py",
   "mimetype": "text/x-python",
   "name": "python",
   "nbconvert_exporter": "python",
   "pygments_lexer": "ipython3",
   "version": "3.7.4"
  }
 },
 "nbformat": 4,
 "nbformat_minor": 2
}
