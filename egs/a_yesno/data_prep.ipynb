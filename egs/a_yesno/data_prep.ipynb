{
 "cells": [
  {
   "cell_type": "code",
   "execution_count": 8,
   "metadata": {},
   "outputs": [],
   "source": [
    "import os\n",
    "import os.path\n",
    "import sys\n",
    "import glob"
   ]
  },
  {
   "cell_type": "code",
   "execution_count": 2,
   "metadata": {},
   "outputs": [],
   "source": [
    "zeroes = []\n",
    "ones = []\n",
    "for fn in os.listdir('waves'):\n",
    "    if fn.startswith('0'):\n",
    "        zeroes.append(fn)   # => training set\n",
    "    elif fn.startswith('1'):\n",
    "        ones.append(fn)     # => test set"
   ]
  },
  {
   "cell_type": "code",
   "execution_count": 3,
   "metadata": {},
   "outputs": [
    {
     "name": "stdout",
     "output_type": "stream",
     "text": [
      "Train data:  31\n",
      "Test data:  29\n"
     ]
    }
   ],
   "source": [
    "print('Train data: ',len(zeroes))\n",
    "print('Test data: ',len(ones))"
   ]
  },
  {
   "cell_type": "code",
   "execution_count": 4,
   "metadata": {},
   "outputs": [],
   "source": [
    "def text(filenames):\n",
    "    results = []\n",
    "    for filename in filenames:\n",
    "        basename = filename.split('.')[0]\n",
    "        transcript = basename.replace('1', 'YES').replace('0', 'NO').replace('_', \" \")\n",
    "        results.append(\"{} {}\".format(basename.split('.')[0], transcript))\n",
    "\n",
    "    return '\\n'.join(sorted(results))"
   ]
  },
  {
   "cell_type": "code",
   "execution_count": 7,
   "metadata": {},
   "outputs": [],
   "source": [
    "with open('data/train/text', 'w') as train_text, open('data/test/text', 'w') as test_text:\n",
    "    train_text.write(text(zeroes))\n",
    "    test_text.write(text(ones))"
   ]
  },
  {
   "cell_type": "code",
   "execution_count": 14,
   "metadata": {},
   "outputs": [],
   "source": [
    "def wav_scp(filenames):\n",
    "    results = []\n",
    "    mainPath = os.getcwd()+'/waves/'\n",
    "    \n",
    "    for filename in filenames:\n",
    "        file_id = filename.split('.')[0]\n",
    "        file_path = mainPath+filename\n",
    "        results.append(\"{} {}\".format(file_id, file_path))\n",
    "        \n",
    "    return '\\n'.join(sorted(results))"
   ]
  },
  {
   "cell_type": "code",
   "execution_count": 16,
   "metadata": {},
   "outputs": [],
   "source": [
    "with open('data/train/wav.scp', 'w') as train_text, open('data/test/wav.scp', 'w') as test_text:\n",
    "    train_text.write(wav_scp(zeroes))\n",
    "    test_text.write(wav_scp(ones))"
   ]
  },
  {
   "cell_type": "code",
   "execution_count": 17,
   "metadata": {},
   "outputs": [],
   "source": [
    "def utt2spk(filenames):\n",
    "    results = []\n",
    "    \n",
    "    for filename in filenames:\n",
    "        file_id = filename.split('.')[0]\n",
    "        results.append(\"{} {}\".format(file_id, 'global'))\n",
    "        \n",
    "    return '\\n'.join(sorted(results))"
   ]
  },
  {
   "cell_type": "code",
   "execution_count": 18,
   "metadata": {},
   "outputs": [],
   "source": [
    "with open('data/train/utt2spk', 'w') as train_text, open('data/test/utt2spk', 'w') as test_text:\n",
    "    train_text.write(utt2spk(zeroes))\n",
    "    test_text.write(utt2spk(ones))"
   ]
  },
  {
   "cell_type": "code",
   "execution_count": 19,
   "metadata": {},
   "outputs": [],
   "source": [
    "def spk2utt(filenames):\n",
    "    results = []\n",
    "    \n",
    "    for filename in filenames:\n",
    "        file_id = filename.split('.')[0]\n",
    "        results.append(\"{} {}\".format('global',file_id))\n",
    "        \n",
    "    return '\\n'.join(sorted(results))"
   ]
  },
  {
   "cell_type": "code",
   "execution_count": 20,
   "metadata": {},
   "outputs": [],
   "source": [
    "with open('data/train/spk2utt', 'w') as train_text, open('data/test/spk2utt', 'w') as test_text:\n",
    "    train_text.write(spk2utt(zeroes))\n",
    "    test_text.write(spk2utt(ones))"
   ]
  },
  {
   "cell_type": "code",
   "execution_count": 22,
   "metadata": {},
   "outputs": [],
   "source": [
    "def corpus(filenames):\n",
    "    results = []\n",
    "    for filename in filenames:\n",
    "        basename = filename.split('.')[0]\n",
    "        transcript = basename.replace('1', 'YES').replace('0', 'NO').replace('_', \" \")\n",
    "        results.append(\"{}\".format(transcript))\n",
    "\n",
    "    return '\\n'.join(sorted(results))"
   ]
  },
  {
   "cell_type": "code",
   "execution_count": 24,
   "metadata": {},
   "outputs": [],
   "source": [
    "with open('data/local/corpus.txt', 'w') as corpus_text:\n",
    "    corpus_text.write(corpus(zeroes))\n",
    "    corpus_text.write('\\n')\n",
    "    corpus_text.write(corpus(ones))"
   ]
  },
  {
   "cell_type": "code",
   "execution_count": null,
   "metadata": {},
   "outputs": [],
   "source": []
  }
 ],
 "metadata": {
  "interpreter": {
   "hash": "de7c8584ae51fbb089eecc0d6f203cc3cae3114d5c45556091d2c5b63465aa84"
  },
  "kernelspec": {
   "display_name": "Python 3",
   "language": "python",
   "name": "python3"
  },
  "language_info": {
   "codemirror_mode": {
    "name": "ipython",
    "version": 3
   },
   "file_extension": ".py",
   "mimetype": "text/x-python",
   "name": "python",
   "nbconvert_exporter": "python",
   "pygments_lexer": "ipython3",
   "version": "3.7.4"
  }
 },
 "nbformat": 4,
 "nbformat_minor": 2
}
